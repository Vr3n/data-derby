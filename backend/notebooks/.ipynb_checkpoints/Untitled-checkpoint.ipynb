{
 "cells": [
  {
   "cell_type": "code",
   "execution_count": 2,
   "id": "130a3725-f0a1-4049-9ccd-0555f717cfce",
   "metadata": {},
   "outputs": [],
   "source": [
    "import pandas as pd"
   ]
  },
  {
   "cell_type": "code",
   "execution_count": 19,
   "id": "4ac99785-ac4f-48e6-9136-8340de5c416a",
   "metadata": {},
   "outputs": [],
   "source": [
    "df = pd.read_csv('player_stats_9_2024-2025_2025-04-05 18_09_11.934649.csv')"
   ]
  },
  {
   "cell_type": "code",
   "execution_count": 25,
   "id": "0a3feb52-f547-4459-a563-845c11227443",
   "metadata": {},
   "outputs": [
    {
     "data": {
      "text/plain": [
       "\"updated_at=datetime.datetime(2025, 4, 4, 15, 47, 15, 221482) based_country_id=None birth_year='2000' avatar_url=None created_at=datetime.datetime(2025, 4, 4, 15, 47, 15, 221482) name='Max Aarons' id=UUID('580acb8a-16be-4f6c-96d0-418082d96bf1') fbref_id='774cf58b' player_url='/en/players/774cf58b/Max-Aarons'\""
      ]
     },
     "execution_count": 25,
     "metadata": {},
     "output_type": "execute_result"
    }
   ],
   "source": [
    "df.loc[0, 'Player']"
   ]
  },
  {
   "cell_type": "code",
   "execution_count": 26,
   "id": "c52a86fb-b42f-456e-bd66-553845253803",
   "metadata": {},
   "outputs": [],
   "source": [
    "row_dict = { 'player_name': 'abc', 'competition_name': 'premier_league', 'team_name': 'Arsenal', 'season': '2024-2025' }"
   ]
  },
  {
   "cell_type": "code",
   "execution_count": 27,
   "id": "5c2edf00-d096-464f-84bc-d55a6fb23db8",
   "metadata": {},
   "outputs": [],
   "source": [
    "data_dict = {'xg': 0.02, 'ab': 0.02}\n",
    "data_dict2 = {'xg/90': 0.02, 'aab': 0.02}"
   ]
  },
  {
   "cell_type": "code",
   "execution_count": 28,
   "id": "c382e537-c2f6-4617-ae22-e794877329f6",
   "metadata": {},
   "outputs": [],
   "source": [
    "row_dict = { **row_dict, **data_dict }"
   ]
  },
  {
   "cell_type": "code",
   "execution_count": 29,
   "id": "aad7048b-26f4-4ba2-9013-c2d58753e01d",
   "metadata": {},
   "outputs": [
    {
     "data": {
      "text/plain": [
       "{'player_name': 'abc',\n",
       " 'competition_name': 'premier_league',\n",
       " 'team_name': 'Arsenal',\n",
       " 'season': '2024-2025',\n",
       " 'xg': 0.02,\n",
       " 'ab': 0.02}"
      ]
     },
     "execution_count": 29,
     "metadata": {},
     "output_type": "execute_result"
    }
   ],
   "source": [
    "row_dict"
   ]
  },
  {
   "cell_type": "code",
   "execution_count": null,
   "id": "73bff5e2-b7b1-4be2-b37b-8a270f4abf85",
   "metadata": {},
   "outputs": [],
   "source": []
  }
 ],
 "metadata": {
  "kernelspec": {
   "display_name": "Python 3 (ipykernel)",
   "language": "python",
   "name": "python3"
  },
  "language_info": {
   "codemirror_mode": {
    "name": "ipython",
    "version": 3
   },
   "file_extension": ".py",
   "mimetype": "text/x-python",
   "name": "python",
   "nbconvert_exporter": "python",
   "pygments_lexer": "ipython3",
   "version": "3.12.9"
  }
 },
 "nbformat": 4,
 "nbformat_minor": 5
}
