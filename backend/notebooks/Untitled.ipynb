{
 "cells": [
  {
   "cell_type": "code",
   "execution_count": 2,
   "id": "130a3725-f0a1-4049-9ccd-0555f717cfce",
   "metadata": {},
   "outputs": [],
   "source": [
    "import pandas as pd"
   ]
  },
  {
   "cell_type": "code",
   "execution_count": 19,
   "id": "4ac99785-ac4f-48e6-9136-8340de5c416a",
   "metadata": {},
   "outputs": [],
   "source": [
    "df = pd.read_csv('player_stats_9_2024-2025_2025-04-05 18_09_11.934649.csv')"
   ]
  },
  {
   "cell_type": "code",
   "execution_count": 25,
   "id": "0a3feb52-f547-4459-a563-845c11227443",
   "metadata": {},
   "outputs": [
    {
     "data": {
      "text/plain": [
       "\"updated_at=datetime.datetime(2025, 4, 4, 15, 47, 15, 221482) based_country_id=None birth_year='2000' avatar_url=None created_at=datetime.datetime(2025, 4, 4, 15, 47, 15, 221482) name='Max Aarons' id=UUID('580acb8a-16be-4f6c-96d0-418082d96bf1') fbref_id='774cf58b' player_url='/en/players/774cf58b/Max-Aarons'\""
      ]
     },
     "execution_count": 25,
     "metadata": {},
     "output_type": "execute_result"
    }
   ],
   "source": [
    "df.loc[0, 'Player']"
   ]
  },
  {
   "cell_type": "code",
   "execution_count": 32,
   "id": "c52a86fb-b42f-456e-bd66-553845253803",
   "metadata": {},
   "outputs": [],
   "source": [
    "row_dict = { 'player_name': 'abc', 'competition_name': 'premier_league', 'team_name': 'Arsenal', 'season': '2024-2025' }"
   ]
  },
  {
   "cell_type": "code",
   "execution_count": 33,
   "id": "5c2edf00-d096-464f-84bc-d55a6fb23db8",
   "metadata": {},
   "outputs": [],
   "source": [
    "data_dict = {'xg': 0.02, 'ab': 0.02}\n",
    "data_dict2 = {'xg/90': 0.02, 'aab': 0.02}"
   ]
  },
  {
   "cell_type": "code",
   "execution_count": 34,
   "id": "c382e537-c2f6-4617-ae22-e794877329f6",
   "metadata": {},
   "outputs": [],
   "source": [
    "row_dict = { **row_dict, **data_dict }"
   ]
  },
  {
   "cell_type": "code",
   "execution_count": 36,
   "id": "aad7048b-26f4-4ba2-9013-c2d58753e01d",
   "metadata": {},
   "outputs": [],
   "source": [
    "row_dict = { **row_dict, **data_dict2 }"
   ]
  },
  {
   "cell_type": "code",
   "execution_count": 37,
   "id": "73bff5e2-b7b1-4be2-b37b-8a270f4abf85",
   "metadata": {},
   "outputs": [
    {
     "data": {
      "text/plain": [
       "{'player_name': 'abc',\n",
       " 'competition_name': 'premier_league',\n",
       " 'team_name': 'Arsenal',\n",
       " 'season': '2024-2025',\n",
       " 'xg': 0.02,\n",
       " 'ab': 0.02,\n",
       " 'xg/90': 0.02,\n",
       " 'aab': 0.02}"
      ]
     },
     "execution_count": 37,
     "metadata": {},
     "output_type": "execute_result"
    }
   ],
   "source": [
    "row_dict"
   ]
  },
  {
   "cell_type": "code",
   "execution_count": 40,
   "id": "08d11ed0-5bed-4961-b93f-09bfb9f58378",
   "metadata": {},
   "outputs": [],
   "source": [
    "adf = pd.DataFrame([row_dict])"
   ]
  },
  {
   "cell_type": "code",
   "execution_count": 42,
   "id": "e826f8ca-fe01-4a82-be85-6eb18e4fca10",
   "metadata": {},
   "outputs": [],
   "source": [
    "data_dict3 = { 'xT': 0.2, 'xA': 0.23, 'npXg': 0.4 }"
   ]
  },
  {
   "cell_type": "code",
   "execution_count": 45,
   "id": "83c2744c-edbe-45f1-8f8d-5e56e410d8a2",
   "metadata": {},
   "outputs": [
    {
     "data": {
      "text/html": [
       "<div>\n",
       "<style scoped>\n",
       "    .dataframe tbody tr th:only-of-type {\n",
       "        vertical-align: middle;\n",
       "    }\n",
       "\n",
       "    .dataframe tbody tr th {\n",
       "        vertical-align: top;\n",
       "    }\n",
       "\n",
       "    .dataframe thead th {\n",
       "        text-align: right;\n",
       "    }\n",
       "</style>\n",
       "<table border=\"1\" class=\"dataframe\">\n",
       "  <thead>\n",
       "    <tr style=\"text-align: right;\">\n",
       "      <th></th>\n",
       "      <th>player_name</th>\n",
       "      <th>competition_name</th>\n",
       "      <th>team_name</th>\n",
       "      <th>season</th>\n",
       "      <th>xg</th>\n",
       "      <th>ab</th>\n",
       "      <th>xg/90</th>\n",
       "      <th>aab</th>\n",
       "    </tr>\n",
       "  </thead>\n",
       "  <tbody>\n",
       "    <tr>\n",
       "      <th>0</th>\n",
       "      <td>abc</td>\n",
       "      <td>premier_league</td>\n",
       "      <td>Arsenal</td>\n",
       "      <td>2024-2025</td>\n",
       "      <td>0.02</td>\n",
       "      <td>0.02</td>\n",
       "      <td>0.02</td>\n",
       "      <td>0.02</td>\n",
       "    </tr>\n",
       "  </tbody>\n",
       "</table>\n",
       "</div>"
      ],
      "text/plain": [
       "  player_name competition_name team_name     season    xg    ab  xg/90   aab\n",
       "0         abc   premier_league   Arsenal  2024-2025  0.02  0.02   0.02  0.02"
      ]
     },
     "execution_count": 45,
     "metadata": {},
     "output_type": "execute_result"
    }
   ],
   "source": [
    "adf[adf['player_name'] == 'abc']"
   ]
  },
  {
   "cell_type": "code",
   "execution_count": null,
   "id": "dd02497b-579e-465c-95cd-47a975bd3a8b",
   "metadata": {},
   "outputs": [],
   "source": []
  }
 ],
 "metadata": {
  "kernelspec": {
   "display_name": "Python 3 (ipykernel)",
   "language": "python",
   "name": "python3"
  },
  "language_info": {
   "codemirror_mode": {
    "name": "ipython",
    "version": 3
   },
   "file_extension": ".py",
   "mimetype": "text/x-python",
   "name": "python",
   "nbconvert_exporter": "python",
   "pygments_lexer": "ipython3",
   "version": "3.12.9"
  }
 },
 "nbformat": 4,
 "nbformat_minor": 5
}
